{
 "cells": [
  {
   "cell_type": "code",
   "execution_count": 1,
   "metadata": {},
   "outputs": [],
   "source": [
    "import pandas as pd\n",
    "from nltk.sentiment.vader import SentimentIntensityAnalyzer"
   ]
  },
  {
   "cell_type": "code",
   "execution_count": 2,
   "metadata": {},
   "outputs": [],
   "source": [
    "tweets = pd.read_csv('cleaned_tweets.csv')"
   ]
  },
  {
   "cell_type": "code",
   "execution_count": 3,
   "metadata": {},
   "outputs": [],
   "source": [
    "# Initialize the VADER sentiment analyzer\n",
    "sia = SentimentIntensityAnalyzer()\n",
    "\n",
    "# Compute the sentiment scores for each tweet\n",
    "tweets['sentiment_scores'] = tweets['cleaned_tweet'].astype(str).apply(lambda x: sia.polarity_scores(x))\n",
    "# Map the sentiment scores to categories\n",
    "def map_sentiment_score_to_category(sentiment_score):\n",
    "    if sentiment_score >= 0.6:\n",
    "        return 'very good'\n",
    "    elif sentiment_score >= 0.2:\n",
    "        return 'good'\n",
    "    elif sentiment_score > -0.2:\n",
    "        return 'neutral'\n",
    "    elif sentiment_score > -0.6:\n",
    "        return 'bad'\n",
    "    else:\n",
    "        return 'very bad'\n",
    "\n",
    "tweets['sentiment_category'] = tweets['sentiment_scores'].apply(lambda x: map_sentiment_score_to_category(x['compound']))\n",
    "\n",
    "# Print the results\n",
    "#print(tweets[['full_text', 'sentiment_category']])"
   ]
  },
  {
   "cell_type": "code",
   "execution_count": 4,
   "metadata": {},
   "outputs": [],
   "source": [
    "tweets.to_csv('classified_tweets.csv', index=False)"
   ]
  }
 ],
 "metadata": {
  "kernelspec": {
   "display_name": "env",
   "language": "python",
   "name": "python3"
  },
  "language_info": {
   "codemirror_mode": {
    "name": "ipython",
    "version": 3
   },
   "file_extension": ".py",
   "mimetype": "text/x-python",
   "name": "python",
   "nbconvert_exporter": "python",
   "pygments_lexer": "ipython3",
   "version": "3.10.10"
  },
  "orig_nbformat": 4
 },
 "nbformat": 4,
 "nbformat_minor": 2
}
