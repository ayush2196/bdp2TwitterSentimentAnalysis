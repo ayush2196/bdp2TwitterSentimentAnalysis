{
 "cells": [
  {
   "cell_type": "code",
   "execution_count": 1,
   "metadata": {},
   "outputs": [],
   "source": [
    "#importing required libraries\n",
    "\n",
    "import tweepy\n",
    "import json\n",
    "import time\n",
    "from dotenv import load_dotenv\n",
    "import os"
   ]
  },
  {
   "cell_type": "code",
   "execution_count": 2,
   "metadata": {},
   "outputs": [],
   "source": [
    "# Load the environment variables from .env file\n",
    "load_dotenv()\n",
    "\n",
    "# Get the Bearer token value from the environment variable\n",
    "bearer_token = os.getenv('BEARER_TOKEN')"
   ]
  },
  {
   "cell_type": "code",
   "execution_count": 3,
   "metadata": {},
   "outputs": [
    {
     "name": "stdout",
     "output_type": "stream",
     "text": [
      "Error occurred: Failed to send request: HTTPSConnectionPool(host='api.twitter.com', port=443): Read timed out. (read timeout=60)\n",
      "Error occurred: Failed to send request: HTTPSConnectionPool(host='api.twitter.com', port=443): Read timed out.\n",
      "Error occurred: Failed to send request: HTTPSConnectionPool(host='api.twitter.com', port=443): Read timed out.\n",
      "Error occurred: 429 Too Many Requests\n",
      "88 - Rate limit exceeded\n",
      "Error occurred: 429 Too Many Requests\n",
      "88 - Rate limit exceeded\n",
      "Error occurred: 429 Too Many Requests\n",
      "88 - Rate limit exceeded\n",
      "Error occurred: 429 Too Many Requests\n",
      "88 - Rate limit exceeded\n",
      "Error occurred: 429 Too Many Requests\n",
      "88 - Rate limit exceeded\n",
      "Error occurred: 429 Too Many Requests\n",
      "88 - Rate limit exceeded\n",
      "Error occurred: 429 Too Many Requests\n",
      "88 - Rate limit exceeded\n",
      "Error occurred: 429 Too Many Requests\n",
      "88 - Rate limit exceeded\n",
      "Error occurred: 429 Too Many Requests\n",
      "88 - Rate limit exceeded\n",
      "Saved 120605 tweets to raw_tweets.json\n"
     ]
    }
   ],
   "source": [
    "# Authenticate with Twitter API using API keys, API secret key, and Bearer token\n",
    "auth = tweepy.OAuth2BearerHandler(bearer_token)\n",
    "api = tweepy.API(auth)\n",
    "\n",
    "# Define the search query\n",
    "query = ''\n",
    "\n",
    "# Define the fields to include in the response\n",
    "fields = ['created_at', 'id', 'full_text', 'user']\n",
    "\n",
    "# Extract data using search API\n",
    "tweets = []\n",
    "start_time = time.time()\n",
    "seconds = 1800\n",
    "while True:\n",
    "    elapsed_time = time.time() - start_time\n",
    "    if elapsed_time >= seconds:\n",
    "        break\n",
    "    try:\n",
    "        for status in tweepy.Cursor(api.search_tweets,\n",
    "                                    q=query + ' -filter:retweets',  # exclude retweets\n",
    "                                    tweet_mode='extended',\n",
    "                                    lang='en',\n",
    "                                    result_type='recent',\n",
    "                                    count=100).items():\n",
    "             # Create a new dictionary with only the desired fields\n",
    "            tweet_data = {field: status._json[field] for field in fields}\n",
    "            tweets.append(tweet_data)\n",
    "            #print(elapsed_time)\n",
    "            #time.sleep(60) # Wait for 60 seconds and try again\n",
    "\n",
    "            # Check if elapsed time exceeds specified time\n",
    "            if time.time() - start_time >= seconds:\n",
    "                break\n",
    "                        \n",
    "    except Exception as e:\n",
    "        print(f\"Error occurred: {e}\")\n",
    "        time.sleep(60) # Wait for 60 seconds and try again\n",
    "\n",
    "# Save the extracted data as JSON\n",
    "if os.path.isfile('raw_tweets.json'):\n",
    "    # If the file exists, open it in append mode\n",
    "    with open('raw_tweets.json', 'a') as f:\n",
    "    # Iterate through the list of tweets and write each tweet as a separate JSON object\n",
    "        for tweet in tweets:\n",
    "            json.dump(tweet, f)\n",
    "            f.write('\\n')\n",
    "else:\n",
    "    # If the file doesn't exist, create a new file and write to it\n",
    "    with open('raw_tweets.json', 'w') as f:\n",
    "    # Iterate through the list of tweets and write each tweet as a separate JSON object\n",
    "        for tweet in tweets:\n",
    "            json.dump(tweet, f)\n",
    "            f.write('\\n')\n",
    "\n",
    "\n",
    "# Print confirmation message\n",
    "print(f\"Saved {len(tweets)} tweets to raw_tweets.json\")"
   ]
  }
 ],
 "metadata": {
  "kernelspec": {
   "display_name": "env",
   "language": "python",
   "name": "python3"
  },
  "language_info": {
   "codemirror_mode": {
    "name": "ipython",
    "version": 3
   },
   "file_extension": ".py",
   "mimetype": "text/x-python",
   "name": "python",
   "nbconvert_exporter": "python",
   "pygments_lexer": "ipython3",
   "version": "3.10.10"
  },
  "orig_nbformat": 4
 },
 "nbformat": 4,
 "nbformat_minor": 2
}
